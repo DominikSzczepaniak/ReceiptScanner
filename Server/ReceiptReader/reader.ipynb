{
 "cells": [
  {
   "cell_type": "code",
   "execution_count": 12,
   "metadata": {},
   "outputs": [],
   "source": [
    "import numpy as np\n",
    "import pandas as pd\n",
    "import matplotlib.pyplot as plt\n",
    "import PIL\n",
    "import pytesseract\n",
    "import os\n",
    "from pillow_heif import register_heif_opener\n",
    "import cv2"
   ]
  },
  {
   "cell_type": "code",
   "execution_count": 13,
   "metadata": {},
   "outputs": [],
   "source": [
    "# os.environ['TESSDATA_PREFIX'] = r'C:\\Users\\szcze\\AppData\\Local\\Programs\\Tesseract-OCR\\tessdata'\n",
    "special_config = '--psm 12 --oem 1'\n",
    "languages_ = \"eng+pol\" \n",
    "register_heif_opener()"
   ]
  },
  {
   "cell_type": "code",
   "execution_count": 14,
   "metadata": {},
   "outputs": [],
   "source": [
    "image_path = \"ReceiptData/IMG_6660.jpg\" \n",
    "#img_pl=PIL.Image.open(image_path) \n",
    "img_pl = cv2.imread(image_path)\n",
    "gray = cv2.cvtColor(img_pl, cv2.COLOR_BGR2GRAY)\n",
    "blur = cv2.medianBlur(gray, 3)\n",
    "thresh, img_pl = cv2.threshold(gray,0,255,cv2.THRESH_BINARY+cv2.THRESH_OTSU)\n",
    "# cv2.imshow(\"test\", img_pl)\n",
    "# cv2.waitKey(0)\n",
    "# cv2.destroyAllWindows()\n",
    "# pytesseract.pytesseract.tesseract_cmd = r'C:\\Users\\szcze\\AppData\\Local\\Programs\\Tesseract-OCR/tesseract.exe'\n",
    "#/opt/homebrew/Cellar/tesseract/5.4.1\n",
    "pytesseract.pytesseract.tesseract_cmd = r'/opt/homebrew/bin/tesseract'"
   ]
  },
  {
   "cell_type": "code",
   "execution_count": 17,
   "metadata": {},
   "outputs": [
    {
     "data": {
      "text/plain": [
       "['vk ) Biedronka',\n",
       " '',\n",
       " '- Codzignnio:nishio cony gy',\n",
       " '',\n",
       " 'BIEDRONKA \"CODZIENNIE NISKIE CENY” 72ż6',\n",
       " '64-920 PIŁA UL. KOSSAKA/PHILLIPSA',\n",
       " 'JERONIMO MARTINS POLSKA S.A.',\n",
       " '62-025 KOSTRZYN UL .ZNIKKA 5',\n",
       " '',\n",
       " 'NIP 7791011327 nr 134176',\n",
       " 'PARAGON FISKALNY',\n",
       " 'Mlekośu3,2 1l C 1 «3,19 3,19',\n",
       " 'ZiotaProwanKanis8g B 2 «1,99 3,368',\n",
       " 'Bocz. Węd/Par 100g. C 4 «5,65 73,480',\n",
       " 'OPUST -3 44C',\n",
       " '13.96',\n",
       " 'BatonProteinowy49g A 3 «3,79 41,378',\n",
       " 'JO. SKYR. MIX. 1506 C 2 x3,83 6 (8',\n",
       " 'Arbuz luz C 2.620 x6,99 18 34',\n",
       " 'UPUST -3 ATC',\n",
       " '. «. SEE © - - oe ee 8 kw me eg ee a eee 9, MJ',\n",
       " 'UPUSTY ŁĄCZNIE -18 ch',\n",
       " 'TRZEURZ ORULHTRUMAKA A 1.3)',\n",
       " '“VAR OAS UPOUATKOKANA B 1,33',\n",
       " 'het bie GPODATKOWANA C 32 4)',\n",
       " 'JR 234 SSE',\n",
       " '| miu BB',\n",
       " '',\n",
       " '3',\n",
       " '',\n",
       " 'KUC Se',\n",
       " 'SUMA PTU',\n",
       " '',\n",
       " '0.2',\n",
       " 'A SUMA PLN = 7, a2',\n",
       " '',\n",
       " 'IL ZENIL PEATNOSE',\n",
       " '',\n",
       " 'fee BT „AKTA DEBIT MASTERCARD Uł 1 47,82 P',\n",
       " 'SWO 0015! tkasa 1? Kasjer nr 22 2024-05-31 16: 55',\n",
       " '',\n",
       " 'BA TDA SCEE JAD /9 SF DSUCbE 7b 740 E SEYOASCS300',\n",
       " 'FE’ EAZ 2001222874',\n",
       " '',\n",
       " 'a Uansśkcji: 5900',\n",
       " 'buzer: 7228240531990612',\n",
       " 'ozielsno łącznie rabatów. 18,61',\n",
       " '',\n",
       " 'w LN: ,',\n",
       " '',\n",
       " '']"
      ]
     },
     "execution_count": 17,
     "metadata": {},
     "output_type": "execute_result"
    }
   ],
   "source": [
    "data = pytesseract.image_to_data(\n",
    "                        img_pl, \n",
    "                        lang=languages_, \n",
    "                        output_type='data.frame', \n",
    "                        config=special_config)\n",
    "photo = pytesseract.image_to_string(img_pl, lang=languages_)\n",
    "photo = photo.split(\"\\n\")\n",
    "photo"
   ]
  }
 ],
 "metadata": {
  "kernelspec": {
   "display_name": "Python 3",
   "language": "python",
   "name": "python3"
  },
  "language_info": {
   "codemirror_mode": {
    "name": "ipython",
    "version": 3
   },
   "file_extension": ".py",
   "mimetype": "text/x-python",
   "name": "python",
   "nbconvert_exporter": "python",
   "pygments_lexer": "ipython3",
   "version": "3.12.4"
  }
 },
 "nbformat": 4,
 "nbformat_minor": 2
}
