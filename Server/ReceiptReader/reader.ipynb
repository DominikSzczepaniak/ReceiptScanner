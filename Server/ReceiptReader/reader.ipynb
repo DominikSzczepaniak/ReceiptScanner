{
 "cells": [
  {
   "cell_type": "code",
   "execution_count": 38,
   "metadata": {},
   "outputs": [],
   "source": [
    "import numpy as np\n",
    "import pandas as pd\n",
    "import matplotlib.pyplot as plt\n",
    "import PIL\n",
    "import pytesseract\n",
    "import os\n",
    "from pillow_heif import register_heif_opener"
   ]
  },
  {
   "cell_type": "code",
   "execution_count": 39,
   "metadata": {},
   "outputs": [],
   "source": [
    "os.environ['TESSDATA_PREFIX'] = r'C:\\Users\\szcze\\AppData\\Local\\Programs\\Tesseract-OCR\\tessdata'\n",
    "special_config = '--psm 12 --oem 1'\n",
    "languages_ = \"eng+pol\" \n",
    "register_heif_opener()"
   ]
  },
  {
   "cell_type": "code",
   "execution_count": 40,
   "metadata": {},
   "outputs": [],
   "source": [
    "image_path = \"ReceiptData/IMG_6660.jpg\" \n",
    "img_pl=PIL.Image.open(image_path) \n",
    "pytesseract.pytesseract.tesseract_cmd = r'C:\\Users\\szcze\\AppData\\Local\\Programs\\Tesseract-OCR/tesseract.exe'"
   ]
  },
  {
   "cell_type": "code",
   "execution_count": 41,
   "metadata": {},
   "outputs": [],
   "source": [
    "data = pytesseract.image_to_data(\n",
    "                        img_pl, \n",
    "                        lang=languages_, \n",
    "                        output_type='data.frame', \n",
    "                        config=special_config)"
   ]
  }
 ],
 "metadata": {
  "kernelspec": {
   "display_name": "Python 3",
   "language": "python",
   "name": "python3"
  },
  "language_info": {
   "codemirror_mode": {
    "name": "ipython",
    "version": 3
   },
   "file_extension": ".py",
   "mimetype": "text/x-python",
   "name": "python",
   "nbconvert_exporter": "python",
   "pygments_lexer": "ipython3",
   "version": "3.12.4"
  }
 },
 "nbformat": 4,
 "nbformat_minor": 2
}
