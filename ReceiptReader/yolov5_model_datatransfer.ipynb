{
 "cells": [
  {
   "cell_type": "code",
   "execution_count": 1,
   "metadata": {},
   "outputs": [],
   "source": [
    "import os"
   ]
  },
  {
   "cell_type": "code",
   "execution_count": 2,
   "metadata": {},
   "outputs": [],
   "source": [
    "def convert_to_yolo_format(image_width, image_height, bbox):\n",
    "    x1, y1 = bbox[0]\n",
    "    x2, y2 = bbox[1]\n",
    "    x3, y3 = bbox[2]\n",
    "    x4, y4 = bbox[3]\n",
    "    \n",
    "    x_center = (x1 + x2 + x3 + x4) / 4.0\n",
    "    y_center = (y1 + y2 + y3 + y4) / 4.0\n",
    "\n",
    "    bbox_width = max(x1, x2, x3, x4) - min(x1, x2, x3, x4)\n",
    "    bbox_height = max(y1, y2, y3, y4) - min(y1, y2, y3, y4)\n",
    "\n",
    "    # Normalize the values\n",
    "    x_center /= image_width\n",
    "    y_center /= image_height\n",
    "    bbox_width /= image_width\n",
    "    bbox_height /= image_height\n",
    "\n",
    "    return x_center, y_center, bbox_width, bbox_height"
   ]
  },
  {
   "cell_type": "code",
   "execution_count": 3,
   "metadata": {},
   "outputs": [],
   "source": [
    "train_data_path = 'data/train_data'\n",
    "train_bbox_path = 'data/train_bbox'\n",
    "yolo_labels_path = 'yolo_labels'\n",
    "os.makedirs(yolo_labels_path, exist_ok=True)"
   ]
  },
  {
   "cell_type": "code",
   "execution_count": 4,
   "metadata": {},
   "outputs": [],
   "source": [
    "for filename in os.listdir(train_bbox_path):\n",
    "    if filename.endswith('.txt'):\n",
    "        image_id = os.path.splitext(filename)[0]\n",
    "        bbox_file_path = os.path.join(train_bbox_path, filename)\n",
    "        \n",
    "        image_path = os.path.join(train_data_path, f\"{image_id}.jpg\")\n",
    "        if not os.path.exists(image_path):\n",
    "            continue\n",
    "        \n",
    "        from PIL import Image\n",
    "        with Image.open(image_path) as img:\n",
    "            image_width, image_height = img.size\n",
    "        \n",
    "        with open(bbox_file_path, 'r') as bbox_file:\n",
    "            lines = bbox_file.readlines()\n",
    "            bbox = []\n",
    "            for line in lines:\n",
    "                x, y = map(float, line.strip().split())\n",
    "                bbox.append((x, y))\n",
    "        \n",
    "        x_center, y_center, bbox_width, bbox_height = convert_to_yolo_format(image_width, image_height, bbox)\n",
    "        \n",
    "        yolo_label_path = os.path.join(yolo_labels_path, f\"{image_id}.txt\")\n",
    "        with open(yolo_label_path, 'w') as yolo_file:\n",
    "            yolo_file.write(f\"0 {x_center} {y_center} {bbox_width} {bbox_height}\\n\")"
   ]
  },
  {
   "cell_type": "code",
   "execution_count": null,
   "metadata": {},
   "outputs": [],
   "source": []
  }
 ],
 "metadata": {
  "kernelspec": {
   "display_name": "Python 3",
   "language": "python",
   "name": "python3"
  },
  "language_info": {
   "codemirror_mode": {
    "name": "ipython",
    "version": 3
   },
   "file_extension": ".py",
   "mimetype": "text/x-python",
   "name": "python",
   "nbconvert_exporter": "python",
   "pygments_lexer": "ipython3",
   "version": "3.12.4"
  }
 },
 "nbformat": 4,
 "nbformat_minor": 2
}
